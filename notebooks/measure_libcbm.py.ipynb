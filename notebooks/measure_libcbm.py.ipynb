{
 "cells": [
  {
   "cell_type": "code",
   "execution_count": null,
   "metadata": {
    "collapsed": false
   },
   "outputs": [],
   "source": [
    "import sys\n",
    "\n",
    "# add a directory to the module search paths for pycbm\n",
    "sys.path.append(\"../module\")\n",
    "\n",
    "import pycbm\n",
    "import array\n",
    "import random\n",
    "import numpy as np\n",
    "import time\n",
    "from matplotlib import pyplot as plt\n",
    "%matplotlib inline\n",
    "\n",
    "N = 128          # max buffer size\n",
    "M = 4294967295   # single value range (U32)\n",
    "R = 50           # averaging rounds\n",
    "\n",
    "popcnt_buff_in  = array.array('I', range(N))\n",
    "popcnt_buff_out = array.array('I', range(N))\n",
    "\n",
    "bitrev_buff_in  = array.array('I', range(N))\n",
    "bitrev_buff_out = array.array('I', range(N))\n",
    "\n",
    "# populate buffers with randome values\n",
    "for i in range(N):\n",
    "\tpopcnt_buff_in[i] = random.randint(0,M)\n",
    "\tbitrev_buff_in[i] = random.randint(0,M)\n",
    "\n",
    "lib = pycbm.pycbm();\n",
    "\n",
    "popcnt_y_data = []\n",
    "bitrev_y_data = []\n",
    "x_data = []\n",
    "\n",
    "for i in range(N):\n",
    "\tt0 = time.time()\n",
    "\tfor r in range(R):\n",
    "\t\tlib.popcnt32n(popcnt_buff_in[0:i+1], popcnt_buff_out[0:i+1])\n",
    "\tt1 = time.time()\n",
    "\tfor r in range(R):\n",
    "\t\tlib.bitrev32n(bitrev_buff_in[0:i+1], bitrev_buff_out[0:i+1])\n",
    "\tt2 = time.time()\n",
    "\t\n",
    "\t# save in units of micro-seconds\n",
    "\tavg_popcnt32n_time = 1e6*(t1-t0)/R\n",
    "\tavg_bitrev32n_time = 1e6*(t2-t1)/R\n",
    "\t\n",
    "\tx_data.append(4*(i+1)) # i words = 4i bytes\n",
    "\tpopcnt_y_data.append(avg_popcnt32n_time)\n",
    "\tbitrev_y_data.append(avg_bitrev32n_time)\n",
    "\n",
    "fig, tgraph = plt.subplots()\n",
    "tgraph.set_title(\"Mean Execution Time vs. Buffer Size\")\n",
    "tgraph.set_xlabel(\"Buffer Size (bytes)\")\n",
    "tgraph.set_ylabel(\"Mean Execution Time (micro-seconds)\")\n",
    "tgraph.plot(np.array(x_data),np.array(popcnt_y_data), label='popcnt32n')\n",
    "tgraph.plot(np.array(x_data),np.array(bitrev_y_data), label='bitrev32n')\n",
    "legend = tgraph.legend(loc='upper center', shadow=True)\n",
    "plt.show()"
   ]
  },
  {
   "cell_type": "code",
   "execution_count": null,
   "metadata": {
    "collapsed": true
   },
   "outputs": [],
   "source": []
  }
 ],
 "metadata": {
  "kernelspec": {
   "display_name": "Python 3",
   "language": "python",
   "name": "python3"
  },
  "language_info": {
   "codemirror_mode": {
    "name": "ipython",
    "version": 3
   },
   "file_extension": ".py",
   "mimetype": "text/x-python",
   "name": "python",
   "nbconvert_exporter": "python",
   "pygments_lexer": "ipython3",
   "version": "3.4.3+"
  }
 },
 "nbformat": 4,
 "nbformat_minor": 1
}
