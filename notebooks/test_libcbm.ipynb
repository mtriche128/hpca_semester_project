{
 "cells": [
  {
   "cell_type": "code",
   "execution_count": null,
   "metadata": {
    "collapsed": false
   },
   "outputs": [],
   "source": [
    "import sys\n",
    "\n",
    "# add a directory to the module search paths for pycbm\n",
    "sys.path.append(\"../module\")\n",
    "\n",
    "import pycbm\n",
    "import array\n",
    "\n",
    "popcnt_buff_in  = array.array('I', [1,3,7,15,0x55555555])\n",
    "popcnt_buff_out = array.array('I', [0,0,0,0,0])\n",
    "\n",
    "bitrev_buff_in  = array.array('I', [0x55555555,0xAAAAAAAA,0x00000001,0x80000000])\n",
    "bitrev_buff_out = array.array('I', [0,0,0,0])\n",
    "\n",
    "\n",
    "lib = pycbm.pycbm();\n",
    "\n",
    "lib.popcnt32n(popcnt_buff_in, popcnt_buff_out)\n",
    "lib.bitrev32n(bitrev_buff_in, bitrev_buff_out)\n",
    "\n",
    "print(\"Pop-Count Results:\")\n",
    "for (word_in,word_out) in zip(popcnt_buff_in,popcnt_buff_out):\n",
    "\tprint(\"0x%.8X -> 0x%.8X\" % (word_in,word_out))\n",
    "\n",
    "print(\"Bit-Reversal Results:\")\n",
    "for (word_in,word_out) in zip(bitrev_buff_in,bitrev_buff_out):\n",
    "\tprint(\"0x%.8X -> 0x%.8X\" % (word_in,word_out))"
   ]
  },
  {
   "cell_type": "code",
   "execution_count": null,
   "metadata": {
    "collapsed": true
   },
   "outputs": [],
   "source": []
  }
 ],
 "metadata": {
  "kernelspec": {
   "display_name": "Python 3",
   "language": "python",
   "name": "python3"
  },
  "language_info": {
   "codemirror_mode": {
    "name": "ipython",
    "version": 3
   },
   "file_extension": ".py",
   "mimetype": "text/x-python",
   "name": "python",
   "nbconvert_exporter": "python",
   "pygments_lexer": "ipython3",
   "version": "3.4.3+"
  }
 },
 "nbformat": 4,
 "nbformat_minor": 1
}
